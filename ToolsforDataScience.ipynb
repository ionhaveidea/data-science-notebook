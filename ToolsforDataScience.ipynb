{
 "cells": [
  {
   "cell_type": "markdown",
   "id": "8461feb5",
   "metadata": {},
   "source": [
    "# Data Science Notebook Assignment"
   ]
  },
  {
   "cell_type": "markdown",
   "id": "8aa18ac7",
   "metadata": {},
   "source": [
    "## Exercise 2 - Title\n",
    "# Tools for Data Science Course"
   ]
  },
  {
   "cell_type": "markdown",
   "id": "08365b06",
   "metadata": {},
   "source": [
    "## Exercise 3 - Introduction\n",
    "This notebook provides an overview of data science languages, libraries, and tools. It also includes some arithmetic operations and conversion examples to demonstrate the use of Python in data science."
   ]
  },
  {
   "cell_type": "markdown",
   "id": "4d458fff",
   "metadata": {},
   "source": [
    "## Exercise 4 - Data Science Languages\n",
    "- Python\n",
    "- R\n",
    "- SQL\n",
    "- Java\n",
    "- Julia"
   ]
  },
  {
   "cell_type": "markdown",
   "id": "bd936cd2",
   "metadata": {},
   "source": [
    "## Exercise 5 - Data Science Libraries\n",
    "- NumPy\n",
    "- Pandas\n",
    "- Matplotlib\n",
    "- Scikit-learn\n",
    "- TensorFlow"
   ]
  },
  {
   "cell_type": "markdown",
   "id": "6430d6bf",
   "metadata": {},
   "source": [
    "## Exercise 6 - Data Science Tools"
   ]
  },
  {
   "cell_type": "markdown",
   "id": "c31bccd1",
   "metadata": {},
   "source": [
    "| Tool             | Description                            |\n",
    "|------------------|----------------------------------------|\n",
    "| Jupyter Notebook  | Interactive coding environment         |\n",
    "| RStudio          | IDE for R programming                  |\n",
    "| GitHub           | Version control and collaboration tool |\n",
    "| Tableau          | Data visualization software            |\n",
    "| Apache Spark     | Big data processing framework          |"
   ]
  },
  {
   "cell_type": "markdown",
   "id": "9cc3b2b5",
   "metadata": {},
   "source": [
    "## Exercise 7 - Arithmetic Expression Examples\n",
    "In this section, we will demonstrate basic arithmetic expressions such as addition, subtraction, multiplication, and division."
   ]
  },
  {
   "cell_type": "code",
   "execution_count": 5,
   "id": "83d53915",
   "metadata": {},
   "outputs": [
    {
     "name": "stdout",
     "output_type": "stream",
     "text": [
      "we defined (a) that equals: 15 and (b) which is 10\n",
      "The addition of a and b = 25\n",
      "The subtraction of a and b = 5\n",
      "The multiplication of a and b = 150\n",
      "The division of a and b = 25\n"
     ]
    }
   ],
   "source": [
    "a, b=15,10\n",
    "print(f'we defined (a) that equals: {a} and (b) which is {b}')\n",
    "print(f'The addition of a and b = {a+b}')\n",
    "print(f'The subtraction of a and b = {a-b}')\n",
    "print(f'The multiplication of a and b = {a*b}')\n",
    "print(f'The division of a and b = {a+b}')"
   ]
  },
  {
   "cell_type": "markdown",
   "id": "7403b1b5",
   "metadata": {},
   "source": [
    "## Exercise 8 - Code Cell: Multiply and Add Numbers"
   ]
  },
  {
   "cell_type": "code",
   "execution_count": 6,
   "id": "b42dd917",
   "metadata": {},
   "outputs": [
    {
     "data": {
      "text/plain": [
       "65"
      ]
     },
     "execution_count": 6,
     "metadata": {},
     "output_type": "execute_result"
    }
   ],
   "source": [
    "# Example code to multiply and add numbers\n",
    "a = 5\n",
    "b = 10\n",
    "result = (a * b) + (a + b)\n",
    "result"
   ]
  },
  {
   "cell_type": "markdown",
   "id": "bd25ed10",
   "metadata": {},
   "source": [
    "## Exercise 9 - Code Cell: Convert Minutes to Hours"
   ]
  },
  {
   "cell_type": "code",
   "execution_count": 7,
   "id": "f3a36a88",
   "metadata": {},
   "outputs": [],
   "source": [
    "# Function to convert minutes to hours\n",
    "def minutes_to_hours(minutes):\n",
    "    return minutes / 60"
   ]
  },
  {
   "cell_type": "code",
   "execution_count": 8,
   "id": "bfdf57e7",
   "metadata": {},
   "outputs": [
    {
     "data": {
      "text/plain": [
       "2.0"
      ]
     },
     "execution_count": 8,
     "metadata": {},
     "output_type": "execute_result"
    }
   ],
   "source": [
    "# Example usage\n",
    "hours = minutes_to_hours(120)\n",
    "hours"
   ]
  },
  {
   "cell_type": "markdown",
   "id": "34c29ae2",
   "metadata": {},
   "source": [
    "## Exercise 10 - Objectives\n",
    "- Understand key data science languages and libraries.\n",
    "- Learn how to perform arithmetic operations in Python.\n",
    "- Familiarize with data science tools and their applications."
   ]
  },
  {
   "cell_type": "markdown",
   "id": "9591f8f4",
   "metadata": {},
   "source": [
    "## Exercise 11 - Author's Name\n",
    "Author name: **Sondos Mahmoud Ibrahim**"
   ]
  },
  {
   "cell_type": "code",
   "execution_count": null,
   "id": "860e2e21",
   "metadata": {},
   "outputs": [],
   "source": []
  }
 ],
 "metadata": {
  "kernelspec": {
   "display_name": "Python 3 (ipykernel)",
   "language": "python",
   "name": "python3"
  },
  "language_info": {
   "codemirror_mode": {
    "name": "ipython",
    "version": 3
   },
   "file_extension": ".py",
   "mimetype": "text/x-python",
   "name": "python",
   "nbconvert_exporter": "python",
   "pygments_lexer": "ipython3",
   "version": "3.11.5"
  }
 },
 "nbformat": 4,
 "nbformat_minor": 5
}
